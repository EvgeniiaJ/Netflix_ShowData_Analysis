{
 "cells": [
  {
   "cell_type": "markdown",
   "metadata": {},
   "source": [
    "# TV Shows and Movies listed on Netflix"
   ]
  },
  {
   "cell_type": "markdown",
   "metadata": {},
   "source": [
    "### This dataset consists of tv shows and movies available on Netflix as of 2019. The dataset is collected from Flixable which is a third-party Netflix search engine.\n",
    "\n",
    "In 2018, they released an interesting  <a href = \"https://flixable.com/netflix-museum/\"> report </a> which shows that the number of TV shows on Netflix has nearly tripled since 2010. The streaming service’s number of movies has decreased by more than 2,000 titles since 2010, while its number of TV shows has nearly tripled. It will be interesting to explore what all other insights can be obtained from the same dataset.\n",
    "\n",
    "Integrating this dataset with other external datasets such as IMDB ratings, rotten tomatoes can also provide many interesting findings."
   ]
  },
  {
   "cell_type": "code",
   "execution_count": 1,
   "metadata": {},
   "outputs": [],
   "source": [
    "import pandas as pd\n",
    "import numpy as np\n",
    "import pandasql as ps\n",
    "import seaborn as sns\n",
    "from collections import Counter\n",
    "import matplotlib.pyplot as plt"
   ]
  },
  {
   "cell_type": "code",
   "execution_count": 2,
   "metadata": {},
   "outputs": [
    {
     "data": {
      "text/html": [
       "<div>\n",
       "<style scoped>\n",
       "    .dataframe tbody tr th:only-of-type {\n",
       "        vertical-align: middle;\n",
       "    }\n",
       "\n",
       "    .dataframe tbody tr th {\n",
       "        vertical-align: top;\n",
       "    }\n",
       "\n",
       "    .dataframe thead th {\n",
       "        text-align: right;\n",
       "    }\n",
       "</style>\n",
       "<table border=\"1\" class=\"dataframe\">\n",
       "  <thead>\n",
       "    <tr style=\"text-align: right;\">\n",
       "      <th></th>\n",
       "      <th>show_id</th>\n",
       "      <th>type</th>\n",
       "      <th>title</th>\n",
       "      <th>director</th>\n",
       "      <th>cast</th>\n",
       "      <th>country</th>\n",
       "      <th>date_added</th>\n",
       "      <th>release_year</th>\n",
       "      <th>rating</th>\n",
       "      <th>duration</th>\n",
       "      <th>listed_in</th>\n",
       "      <th>description</th>\n",
       "    </tr>\n",
       "  </thead>\n",
       "  <tbody>\n",
       "    <tr>\n",
       "      <th>0</th>\n",
       "      <td>s1</td>\n",
       "      <td>TV Show</td>\n",
       "      <td>3%</td>\n",
       "      <td>NaN</td>\n",
       "      <td>João Miguel, Bianca Comparato, Michel Gomes, R...</td>\n",
       "      <td>Brazil</td>\n",
       "      <td>August 14, 2020</td>\n",
       "      <td>2020</td>\n",
       "      <td>TV-MA</td>\n",
       "      <td>4 Seasons</td>\n",
       "      <td>International TV Shows, TV Dramas, TV Sci-Fi &amp;...</td>\n",
       "      <td>In a future where the elite inhabit an island ...</td>\n",
       "    </tr>\n",
       "    <tr>\n",
       "      <th>1</th>\n",
       "      <td>s2</td>\n",
       "      <td>Movie</td>\n",
       "      <td>7:19</td>\n",
       "      <td>Jorge Michel Grau</td>\n",
       "      <td>Demián Bichir, Héctor Bonilla, Oscar Serrano, ...</td>\n",
       "      <td>Mexico</td>\n",
       "      <td>December 23, 2016</td>\n",
       "      <td>2016</td>\n",
       "      <td>TV-MA</td>\n",
       "      <td>93 min</td>\n",
       "      <td>Dramas, International Movies</td>\n",
       "      <td>After a devastating earthquake hits Mexico Cit...</td>\n",
       "    </tr>\n",
       "    <tr>\n",
       "      <th>2</th>\n",
       "      <td>s3</td>\n",
       "      <td>Movie</td>\n",
       "      <td>23:59</td>\n",
       "      <td>Gilbert Chan</td>\n",
       "      <td>Tedd Chan, Stella Chung, Henley Hii, Lawrence ...</td>\n",
       "      <td>Singapore</td>\n",
       "      <td>December 20, 2018</td>\n",
       "      <td>2011</td>\n",
       "      <td>R</td>\n",
       "      <td>78 min</td>\n",
       "      <td>Horror Movies, International Movies</td>\n",
       "      <td>When an army recruit is found dead, his fellow...</td>\n",
       "    </tr>\n",
       "    <tr>\n",
       "      <th>3</th>\n",
       "      <td>s4</td>\n",
       "      <td>Movie</td>\n",
       "      <td>9</td>\n",
       "      <td>Shane Acker</td>\n",
       "      <td>Elijah Wood, John C. Reilly, Jennifer Connelly...</td>\n",
       "      <td>United States</td>\n",
       "      <td>November 16, 2017</td>\n",
       "      <td>2009</td>\n",
       "      <td>PG-13</td>\n",
       "      <td>80 min</td>\n",
       "      <td>Action &amp; Adventure, Independent Movies, Sci-Fi...</td>\n",
       "      <td>In a postapocalyptic world, rag-doll robots hi...</td>\n",
       "    </tr>\n",
       "    <tr>\n",
       "      <th>4</th>\n",
       "      <td>s5</td>\n",
       "      <td>Movie</td>\n",
       "      <td>21</td>\n",
       "      <td>Robert Luketic</td>\n",
       "      <td>Jim Sturgess, Kevin Spacey, Kate Bosworth, Aar...</td>\n",
       "      <td>United States</td>\n",
       "      <td>January 1, 2020</td>\n",
       "      <td>2008</td>\n",
       "      <td>PG-13</td>\n",
       "      <td>123 min</td>\n",
       "      <td>Dramas</td>\n",
       "      <td>A brilliant group of students become card-coun...</td>\n",
       "    </tr>\n",
       "  </tbody>\n",
       "</table>\n",
       "</div>"
      ],
      "text/plain": [
       "  show_id     type  title           director  \\\n",
       "0      s1  TV Show     3%                NaN   \n",
       "1      s2    Movie   7:19  Jorge Michel Grau   \n",
       "2      s3    Movie  23:59       Gilbert Chan   \n",
       "3      s4    Movie      9        Shane Acker   \n",
       "4      s5    Movie     21     Robert Luketic   \n",
       "\n",
       "                                                cast        country  \\\n",
       "0  João Miguel, Bianca Comparato, Michel Gomes, R...         Brazil   \n",
       "1  Demián Bichir, Héctor Bonilla, Oscar Serrano, ...         Mexico   \n",
       "2  Tedd Chan, Stella Chung, Henley Hii, Lawrence ...      Singapore   \n",
       "3  Elijah Wood, John C. Reilly, Jennifer Connelly...  United States   \n",
       "4  Jim Sturgess, Kevin Spacey, Kate Bosworth, Aar...  United States   \n",
       "\n",
       "          date_added  release_year rating   duration  \\\n",
       "0    August 14, 2020          2020  TV-MA  4 Seasons   \n",
       "1  December 23, 2016          2016  TV-MA     93 min   \n",
       "2  December 20, 2018          2011      R     78 min   \n",
       "3  November 16, 2017          2009  PG-13     80 min   \n",
       "4    January 1, 2020          2008  PG-13    123 min   \n",
       "\n",
       "                                           listed_in  \\\n",
       "0  International TV Shows, TV Dramas, TV Sci-Fi &...   \n",
       "1                       Dramas, International Movies   \n",
       "2                Horror Movies, International Movies   \n",
       "3  Action & Adventure, Independent Movies, Sci-Fi...   \n",
       "4                                             Dramas   \n",
       "\n",
       "                                         description  \n",
       "0  In a future where the elite inhabit an island ...  \n",
       "1  After a devastating earthquake hits Mexico Cit...  \n",
       "2  When an army recruit is found dead, his fellow...  \n",
       "3  In a postapocalyptic world, rag-doll robots hi...  \n",
       "4  A brilliant group of students become card-coun...  "
      ]
     },
     "execution_count": 2,
     "metadata": {},
     "output_type": "execute_result"
    }
   ],
   "source": [
    "netflix_data = pd.read_csv(\"netflix_titles.csv\")\n",
    "netflix_data.head()"
   ]
  },
  {
   "cell_type": "code",
   "execution_count": 3,
   "metadata": {},
   "outputs": [
    {
     "data": {
      "text/plain": [
       "(7787, 12)"
      ]
     },
     "execution_count": 3,
     "metadata": {},
     "output_type": "execute_result"
    }
   ],
   "source": [
    "netflix_data.shape"
   ]
  },
  {
   "cell_type": "code",
   "execution_count": 4,
   "metadata": {},
   "outputs": [
    {
     "data": {
      "text/html": [
       "<div>\n",
       "<style scoped>\n",
       "    .dataframe tbody tr th:only-of-type {\n",
       "        vertical-align: middle;\n",
       "    }\n",
       "\n",
       "    .dataframe tbody tr th {\n",
       "        vertical-align: top;\n",
       "    }\n",
       "\n",
       "    .dataframe thead th {\n",
       "        text-align: right;\n",
       "    }\n",
       "</style>\n",
       "<table border=\"1\" class=\"dataframe\">\n",
       "  <thead>\n",
       "    <tr style=\"text-align: right;\">\n",
       "      <th></th>\n",
       "      <th>release_year</th>\n",
       "    </tr>\n",
       "  </thead>\n",
       "  <tbody>\n",
       "    <tr>\n",
       "      <th>count</th>\n",
       "      <td>7787.000000</td>\n",
       "    </tr>\n",
       "    <tr>\n",
       "      <th>mean</th>\n",
       "      <td>2013.932580</td>\n",
       "    </tr>\n",
       "    <tr>\n",
       "      <th>std</th>\n",
       "      <td>8.757395</td>\n",
       "    </tr>\n",
       "    <tr>\n",
       "      <th>min</th>\n",
       "      <td>1925.000000</td>\n",
       "    </tr>\n",
       "    <tr>\n",
       "      <th>25%</th>\n",
       "      <td>2013.000000</td>\n",
       "    </tr>\n",
       "    <tr>\n",
       "      <th>50%</th>\n",
       "      <td>2017.000000</td>\n",
       "    </tr>\n",
       "    <tr>\n",
       "      <th>75%</th>\n",
       "      <td>2018.000000</td>\n",
       "    </tr>\n",
       "    <tr>\n",
       "      <th>max</th>\n",
       "      <td>2021.000000</td>\n",
       "    </tr>\n",
       "  </tbody>\n",
       "</table>\n",
       "</div>"
      ],
      "text/plain": [
       "       release_year\n",
       "count   7787.000000\n",
       "mean    2013.932580\n",
       "std        8.757395\n",
       "min     1925.000000\n",
       "25%     2013.000000\n",
       "50%     2017.000000\n",
       "75%     2018.000000\n",
       "max     2021.000000"
      ]
     },
     "execution_count": 4,
     "metadata": {},
     "output_type": "execute_result"
    }
   ],
   "source": [
    "netflix_data.describe()"
   ]
  },
  {
   "cell_type": "code",
   "execution_count": 5,
   "metadata": {},
   "outputs": [
    {
     "name": "stdout",
     "output_type": "stream",
     "text": [
      "<class 'pandas.core.frame.DataFrame'>\n",
      "RangeIndex: 7787 entries, 0 to 7786\n",
      "Data columns (total 12 columns):\n",
      " #   Column        Non-Null Count  Dtype \n",
      "---  ------        --------------  ----- \n",
      " 0   show_id       7787 non-null   object\n",
      " 1   type          7787 non-null   object\n",
      " 2   title         7787 non-null   object\n",
      " 3   director      5398 non-null   object\n",
      " 4   cast          7069 non-null   object\n",
      " 5   country       7280 non-null   object\n",
      " 6   date_added    7777 non-null   object\n",
      " 7   release_year  7787 non-null   int64 \n",
      " 8   rating        7780 non-null   object\n",
      " 9   duration      7787 non-null   object\n",
      " 10  listed_in     7787 non-null   object\n",
      " 11  description   7787 non-null   object\n",
      "dtypes: int64(1), object(11)\n",
      "memory usage: 730.2+ KB\n"
     ]
    }
   ],
   "source": [
    "netflix_data.info()"
   ]
  },
  {
   "cell_type": "markdown",
   "metadata": {},
   "source": [
    "### There are missing values in the following columns: director, cast, country, date_added and rating.\n",
    "#### Since we cannot predict the added data, we can drop those rows that have missing values in this column"
   ]
  },
  {
   "cell_type": "code",
   "execution_count": 6,
   "metadata": {},
   "outputs": [],
   "source": [
    "netflix_data.dropna(subset = ['date_added'], inplace = True)"
   ]
  },
  {
   "cell_type": "code",
   "execution_count": 7,
   "metadata": {},
   "outputs": [
    {
     "name": "stdout",
     "output_type": "stream",
     "text": [
      "<class 'pandas.core.frame.DataFrame'>\n",
      "Int64Index: 7777 entries, 0 to 7786\n",
      "Data columns (total 12 columns):\n",
      " #   Column        Non-Null Count  Dtype \n",
      "---  ------        --------------  ----- \n",
      " 0   show_id       7777 non-null   object\n",
      " 1   type          7777 non-null   object\n",
      " 2   title         7777 non-null   object\n",
      " 3   director      5398 non-null   object\n",
      " 4   cast          7059 non-null   object\n",
      " 5   country       7271 non-null   object\n",
      " 6   date_added    7777 non-null   object\n",
      " 7   release_year  7777 non-null   int64 \n",
      " 8   rating        7770 non-null   object\n",
      " 9   duration      7777 non-null   object\n",
      " 10  listed_in     7777 non-null   object\n",
      " 11  description   7777 non-null   object\n",
      "dtypes: int64(1), object(11)\n",
      "memory usage: 789.9+ KB\n"
     ]
    }
   ],
   "source": [
    "netflix_data.info()"
   ]
  },
  {
   "cell_type": "markdown",
   "metadata": {},
   "source": [
    "#### As for director, cast, country, and rating columns, the word 'missing' should be inserted to substitute null values"
   ]
  },
  {
   "cell_type": "code",
   "execution_count": 8,
   "metadata": {},
   "outputs": [],
   "source": [
    "netflix_data.director.fillna('missing', inplace = True)\n",
    "netflix_data.cast.fillna('missing', inplace = True)\n",
    "netflix_data.country.fillna('missing', inplace = True)\n",
    "netflix_data.rating.fillna('missing', inplace = True)"
   ]
  },
  {
   "cell_type": "code",
   "execution_count": 9,
   "metadata": {},
   "outputs": [
    {
     "name": "stdout",
     "output_type": "stream",
     "text": [
      "<class 'pandas.core.frame.DataFrame'>\n",
      "Int64Index: 7777 entries, 0 to 7786\n",
      "Data columns (total 12 columns):\n",
      " #   Column        Non-Null Count  Dtype \n",
      "---  ------        --------------  ----- \n",
      " 0   show_id       7777 non-null   object\n",
      " 1   type          7777 non-null   object\n",
      " 2   title         7777 non-null   object\n",
      " 3   director      7777 non-null   object\n",
      " 4   cast          7777 non-null   object\n",
      " 5   country       7777 non-null   object\n",
      " 6   date_added    7777 non-null   object\n",
      " 7   release_year  7777 non-null   int64 \n",
      " 8   rating        7777 non-null   object\n",
      " 9   duration      7777 non-null   object\n",
      " 10  listed_in     7777 non-null   object\n",
      " 11  description   7777 non-null   object\n",
      "dtypes: int64(1), object(11)\n",
      "memory usage: 789.9+ KB\n"
     ]
    }
   ],
   "source": [
    "netflix_data.info()"
   ]
  },
  {
   "cell_type": "code",
   "execution_count": 10,
   "metadata": {
    "scrolled": true
   },
   "outputs": [
    {
     "data": {
      "text/plain": [
       "<BarContainer object of 2 artists>"
      ]
     },
     "execution_count": 10,
     "metadata": {},
     "output_type": "execute_result"
    },
    {
     "data": {
      "image/png": "[encoded data removed]",
      "text/plain": [
       "<Figure size 432x288 with 1 Axes>"
      ]
     },
     "metadata": {
      "needs_background": "light"
     },
     "output_type": "display_data"
    }
   ],
   "source": [
    "plt.title('Total TV Shows and Movies Produced')\n",
    "plt.ylabel('Types Count')\n",
    "plt.xlabel('Show Type')\n",
    "plt.bar(netflix_data.type.unique(), netflix_data.type.value_counts(), width = 0.7, color = 'green')"
   ]
  },
  {
   "cell_type": "markdown",
   "metadata": {},
   "source": [
    "### It is clearly seen that the number of TV Shows exceeds the number of Movies in more than 2 times"
   ]
  },
  {
   "cell_type": "markdown",
   "metadata": {},
   "source": [
    "## Explore directors that made the most of the impactin the film industry"
   ]
  },
  {
   "cell_type": "code",
   "execution_count": 11,
   "metadata": {},
   "outputs": [
    {
     "data": {
      "text/plain": [
       "Raúl Campos, Jan Suter    18\n",
       "Marcus Raboy              16\n",
       "Jay Karas                 14\n",
       "Cathy Garcia-Molina       13\n",
       "Youssef Chahine           12\n",
       "Martin Scorsese           12\n",
       "Jay Chapman               12\n",
       "Steven Spielberg          10\n",
       "David Dhawan               9\n",
       "Shannon Hartman            8\n",
       "Kunle Afolayan             8\n",
       "Quentin Tarantino          8\n",
       "Lance Bangs                8\n",
       "Hakan Algül                8\n",
       "Ryan Polito                8\n",
       "Robert Rodriguez           8\n",
       "Johnnie To                 8\n",
       "Ozan Açıktan               7\n",
       "Don Michael Paul           7\n",
       "Name: director, dtype: int64"
      ]
     },
     "execution_count": 11,
     "metadata": {},
     "output_type": "execute_result"
    }
   ],
   "source": [
    "sorted_directors = netflix_data.director.value_counts()[1:20].sort_values(ascending = False)\n",
    "sorted_directors"
   ]
  },
  {
   "cell_type": "code",
   "execution_count": 12,
   "metadata": {},
   "outputs": [
    {
     "data": {
      "text/plain": [
       "Text(0.5, 0, 'Producer Name')"
      ]
     },
     "execution_count": 12,
     "metadata": {},
     "output_type": "execute_result"
    },
    {
     "data": {
      "image/png": "[encoded data removed]",
      "text/plain": [
       "<Figure size 432x288 with 1 Axes>"
      ]
     },
     "metadata": {
      "needs_background": "light"
     },
     "output_type": "display_data"
    }
   ],
   "source": [
    "sorted_directors.plot(kind = 'bar', width = 0.7)\n",
    "plt.title('Popular Producers')\n",
    "plt.ylabel('Number of Times Appeared to Produce')\n",
    "plt.xlabel('Producer Name')"
   ]
  },
  {
   "cell_type": "markdown",
   "metadata": {},
   "source": [
    "### The most common director who made impact to the production of shows is Raúl Campos, Jan Suter"
   ]
  },
  {
   "cell_type": "markdown",
   "metadata": {},
   "source": [
    "## Explore the Cast Members "
   ]
  },
  {
   "cell_type": "code",
   "execution_count": 13,
   "metadata": {},
   "outputs": [
    {
     "data": {
      "text/plain": [
       "0       [João Miguel,  Bianca Comparato,  Michel Gomes...\n",
       "1       [Demián Bichir,  Héctor Bonilla,  Oscar Serran...\n",
       "2       [Tedd Chan,  Stella Chung,  Henley Hii,  Lawre...\n",
       "3       [Elijah Wood,  John C. Reilly,  Jennifer Conne...\n",
       "4       [Jim Sturgess,  Kevin Spacey,  Kate Bosworth, ...\n",
       "                              ...                        \n",
       "7782    [Imad Creidi,  Antoinette Turk,  Elias Gergi, ...\n",
       "7783    [Vicky Kaushal,  Sarah-Jane Dias,  Raaghav Cha...\n",
       "7784                                            [Nasty C]\n",
       "7785                        [Adriano Zumbo,  Rachel Khoo]\n",
       "7786                                            [missing]\n",
       "Name: cast, Length: 7777, dtype: object"
      ]
     },
     "execution_count": 13,
     "metadata": {},
     "output_type": "execute_result"
    }
   ],
   "source": [
    "def split_people(names):\n",
    "    people_list = list()\n",
    "    people_list = names.split(',')\n",
    "    return people_list\n",
    "\n",
    "cast_actors = netflix_data.cast.apply(split_people)\n",
    "cast_actors"
   ]
  },
  {
   "cell_type": "code",
   "execution_count": null,
   "metadata": {},
   "outputs": [],
   "source": [
    "cast_dictionary = dict()\n",
    "\n",
    "def create_cast_dict(name_list, dictionary):\n",
    "    for name in name_list:\n",
    "        if name not in dictionary:\n",
    "            dictionary[name] = 1\n",
    "        else:\n",
    "            dictionary[name] += 1\n",
    "    return dictionary\n",
    "\n",
    "for actors in cast_actors:\n",
    "    cast_dictionary = create_cast_dict(actors, cast_dictionary)\n",
    "print(cast_dictionary)"
   ]
  },
  {
   "cell_type": "code",
   "execution_count": 15,
   "metadata": {},
   "outputs": [
    {
     "name": "stdout",
     "output_type": "stream",
     "text": [
      "Total number of unique roles where the cast actor and actresses took part: 56604\n",
      "Number of unique actors acting in tv_shows: 35339\n"
     ]
    }
   ],
   "source": [
    "print('Total number of unique roles where the cast actor and actresses took part:', sum(cast_dictionary.values()))\n",
    "print('Number of unique actors acting in tv_shows:', len(cast_dictionary))"
   ]
  },
  {
   "cell_type": "code",
   "execution_count": 16,
   "metadata": {},
   "outputs": [],
   "source": [
    "top_cast = cast_dictionary\n",
    "common_cast = Counter(top_cast)\n",
    "show_cast_common = common_cast.most_common(100) \n",
    "\n",
    "common_cast_dict = dict()\n",
    "\n",
    "for i in show_cast_common:\n",
    "    common_cast_dict[i[0]] = i[1]"
   ]
  },
  {
   "cell_type": "code",
   "execution_count": 17,
   "metadata": {},
   "outputs": [
    {
     "data": {
      "text/plain": [
       "{'missing': 718,\n",
       " ' Anupam Kher': 38,\n",
       " ' Takahiro Sakurai': 28,\n",
       " ' Om Puri': 27,\n",
       " 'Shah Rukh Khan': 27,\n",
       " ' Boman Irani': 25,\n",
       " ' Paresh Rawal': 24,\n",
       " ' Andrea Libman': 24,\n",
       " ' Yuki Kaji': 23,\n",
       " 'Akshay Kumar': 22,\n",
       " ' Vincent Tong': 22,\n",
       " ' Kareena Kapoor': 20,\n",
       " ' John Cleese': 20,\n",
       " 'Adam Sandler': 19,\n",
       " ' Gulshan Grover': 18,\n",
       " ' Naseeruddin Shah': 18,\n",
       " ' Ai Kayano': 18,\n",
       " 'Amitabh Bachchan': 18,\n",
       " ' Yashpal Sharma': 18,\n",
       " 'David Attenborough': 18,\n",
       " ' Junichi Suwabe': 18,\n",
       " ' Fred Tatasciore': 17,\n",
       " ' Kana Hanazawa': 17,\n",
       " ' Asrani': 17,\n",
       " ' Erin Fitzgerald': 16,\n",
       " ' Amrish Puri': 16,\n",
       " 'Ajay Devgn': 16,\n",
       " ' Michael Palin': 16,\n",
       " ' Daisuke Ono': 16,\n",
       " ' Ashleigh Ball': 16,\n",
       " 'Nicolas Cage': 16,\n",
       " ' Manoj Joshi': 16,\n",
       " ' Hassan Hosny': 16,\n",
       " ' Tomokazu Sugita': 16,\n",
       " ' Sean Astin': 15,\n",
       " ' Kay Kay Menon': 15,\n",
       " ' Tinnu Anand': 15,\n",
       " ' Pankaj Tripathi': 15,\n",
       " ' Tara Strong': 15,\n",
       " ' Vijay Raaz': 15,\n",
       " ' Rajesh Sharma': 15,\n",
       " ' Alessandro Juliani': 15,\n",
       " ' Eric Idle': 15,\n",
       " ' Diana Kaarina': 15,\n",
       " ' Danny Trejo': 14,\n",
       " ' Jackie Shroff': 14,\n",
       " 'Aamir Khan': 14,\n",
       " ' Maya Rudolph': 14,\n",
       " ' Alfred Molina': 14,\n",
       " ' Molly Shannon': 14,\n",
       " ' Rajpal Yadav': 14,\n",
       " ' Katrina Kaif': 14,\n",
       " ' Fred Armisen': 14,\n",
       " ' Shakti Kapoor': 14,\n",
       " ' Miyuki Sawashiro': 14,\n",
       " ' Kari Wahlgren': 14,\n",
       " ' Kulbhushan Kharbanda': 14,\n",
       " ' Tabitha St. Germain': 14,\n",
       " ' Kathleen Barr': 14,\n",
       " ' Sam Vincent': 14,\n",
       " ' Sharat Saxena': 14,\n",
       " ' Ian James Corlett': 14,\n",
       " ' Terry Jones': 14,\n",
       " ' Vipin Sharma': 13,\n",
       " ' Fumiko Orikasa': 13,\n",
       " ' Saori Hayami': 13,\n",
       " ' Seema Biswas': 13,\n",
       " ' Manoj Bajpayee': 13,\n",
       " ' Mohnish Bahl': 13,\n",
       " ' Priyanka Chopra': 13,\n",
       " ' Yoshimasa Hosoya': 13,\n",
       " 'Anil Kapoor': 13,\n",
       " ' Julie Lemieux': 13,\n",
       " ' Kevin Michael Richardson': 13,\n",
       " ' Kate Higgins': 13,\n",
       " ' Cindy Robinson': 13,\n",
       " ' Jim Broadbent': 13,\n",
       " ' Brian Drummond': 13,\n",
       " ' Yuichi Nakamura': 13,\n",
       " 'Ahmed Helmy': 13,\n",
       " ' Debi Derryberry': 13,\n",
       " 'Michela Luci': 13,\n",
       " ' Jamie Watson': 13,\n",
       " ' Eric Peterson': 13,\n",
       " ' Terry Gilliam': 13,\n",
       " ' Robb Wells': 13,\n",
       " ' Laurence Fishburne': 12,\n",
       " 'Naseeruddin Shah': 12,\n",
       " ' Yoko Hikasa': 12,\n",
       " ' David Koechner': 12,\n",
       " ' Joan Cusack': 12,\n",
       " ' Mahesh Manjrekar': 12,\n",
       " ' Ray Liotta': 12,\n",
       " ' Adil Hussain': 12,\n",
       " ' Dee Bradley Baker': 12,\n",
       " ' Sanjay Mishra': 12,\n",
       " ' Radhika Apte': 12,\n",
       " 'Sanjay Dutt': 12,\n",
       " ' James Franco': 12,\n",
       " ' Hiroshi Kamiya': 12}"
      ]
     },
     "execution_count": 17,
     "metadata": {},
     "output_type": "execute_result"
    }
   ],
   "source": [
    "common_cast_dict"
   ]
  },
  {
   "cell_type": "code",
   "execution_count": 18,
   "metadata": {},
   "outputs": [],
   "source": [
    "common_cast_df = pd.DataFrame.from_dict(common_cast_dict, orient = 'index')"
   ]
  },
  {
   "cell_type": "code",
   "execution_count": 19,
   "metadata": {},
   "outputs": [
    {
     "data": {
      "text/plain": [
       "Text(0.5, 0, 'Actor/Actress Name')"
      ]
     },
     "execution_count": 19,
     "metadata": {},
     "output_type": "execute_result"
    },
    {
     "data": {
      "image/png": "[encoded data removed]",
      "text/plain": [
       "<Figure size 432x288 with 1 Axes>"
      ]
     },
     "metadata": {
      "needs_background": "light"
     },
     "output_type": "display_data"
    }
   ],
   "source": [
    "common_cast_df[1:31].plot(kind = 'bar', width = 0.7, color = 'red')\n",
    "plt.title('Popular Actors and Actresses')\n",
    "plt.ylabel('Number Times Appeared')\n",
    "plt.xlabel('Actor/Actress Name')"
   ]
  },
  {
   "cell_type": "markdown",
   "metadata": {},
   "source": [
    "### Anupam Kher is the most popular actor"
   ]
  },
  {
   "cell_type": "markdown",
   "metadata": {},
   "source": [
    "## Explore the most popular country"
   ]
  },
  {
   "cell_type": "code",
   "execution_count": 20,
   "metadata": {},
   "outputs": [],
   "source": [
    "common_country_list = []\n",
    "\n",
    "for country in netflix_data.country:\n",
    "    split_country = country.split(',')\n",
    "    for new_country in split_country:\n",
    "        common_country_list.append(new_country.strip())"
   ]
  },
  {
   "cell_type": "code",
   "execution_count": 21,
   "metadata": {},
   "outputs": [],
   "source": [
    "common_country = {}\n",
    "for country in common_country_list:\n",
    "    common_country[country] = common_country_list.count(country)"
   ]
  },
  {
   "cell_type": "code",
   "execution_count": 22,
   "metadata": {},
   "outputs": [],
   "source": [
    "common_country_counter = Counter(common_country)\n",
    "show_common = common_country_counter.most_common(50)\n",
    "\n",
    "\n",
    "common_country_dict = dict()\n",
    "\n",
    "for i in show_common:\n",
    "    common_country_dict[i[0]] = i[1]"
   ]
  },
  {
   "cell_type": "code",
   "execution_count": 23,
   "metadata": {},
   "outputs": [
    {
     "data": {
      "text/plain": [
       "{'United States': 3291,\n",
       " 'India': 990,\n",
       " 'United Kingdom': 722,\n",
       " 'missing': 506,\n",
       " 'Canada': 412,\n",
       " 'France': 349,\n",
       " 'Japan': 286,\n",
       " 'Spain': 215,\n",
       " 'South Korea': 212,\n",
       " 'Germany': 199,\n",
       " 'Mexico': 154,\n",
       " 'China': 147,\n",
       " 'Australia': 143,\n",
       " 'Egypt': 110,\n",
       " 'Turkey': 108,\n",
       " 'Hong Kong': 102,\n",
       " 'Italy': 90,\n",
       " 'Brazil': 88,\n",
       " 'Taiwan': 85,\n",
       " 'Belgium': 85,\n",
       " 'Argentina': 82,\n",
       " 'Indonesia': 80,\n",
       " 'Philippines': 78,\n",
       " 'Nigeria': 76,\n",
       " 'Thailand': 65,\n",
       " 'South Africa': 54,\n",
       " 'Netherlands': 45,\n",
       " 'Colombia': 45,\n",
       " 'Denmark': 44,\n",
       " 'Ireland': 40,\n",
       " 'Singapore': 39,\n",
       " 'Sweden': 39,\n",
       " 'Poland': 36,\n",
       " 'United Arab Emirates': 34,\n",
       " 'Norway': 29,\n",
       " 'New Zealand': 28,\n",
       " 'Russia': 27,\n",
       " 'Israel': 26,\n",
       " 'Chile': 26,\n",
       " 'Lebanon': 26,\n",
       " 'Malaysia': 26,\n",
       " 'Pakistan': 24,\n",
       " 'Czech Republic': 20,\n",
       " 'Switzerland': 17,\n",
       " 'Uruguay': 14,\n",
       " 'Romania': 12,\n",
       " 'Luxembourg': 11,\n",
       " 'Finland': 11,\n",
       " 'Austria': 11,\n",
       " 'Peru': 10}"
      ]
     },
     "execution_count": 23,
     "metadata": {},
     "output_type": "execute_result"
    }
   ],
   "source": [
    "common_country_dict"
   ]
  },
  {
   "cell_type": "code",
   "execution_count": 24,
   "metadata": {},
   "outputs": [],
   "source": [
    "common_country_df = pd.DataFrame.from_dict(common_country_dict, orient = 'index')"
   ]
  },
  {
   "cell_type": "code",
   "execution_count": 25,
   "metadata": {},
   "outputs": [
    {
     "data": {
      "text/plain": [
       "Text(0.5, 0, 'Country Name')"
      ]
     },
     "execution_count": 25,
     "metadata": {},
     "output_type": "execute_result"
    },
    {
     "data": {
      "image/png": "[encoded data removed]",
      "text/plain": [
       "<Figure size 432x288 with 1 Axes>"
      ]
     },
     "metadata": {
      "needs_background": "light"
     },
     "output_type": "display_data"
    }
   ],
   "source": [
    "common_country_df[0:30].plot(kind = 'bar', width = 0.7, color = 'green')\n",
    "plt.title('Popular Countries')\n",
    "plt.ylabel('Number Times Appeared')\n",
    "plt.xlabel('Country Name')"
   ]
  },
  {
   "cell_type": "markdown",
   "metadata": {},
   "source": [
    "### Based on the results above, the most popular country is the United States"
   ]
  },
  {
   "cell_type": "markdown",
   "metadata": {},
   "source": [
    "## Now indentify the number of Movies and TV Shows released per year"
   ]
  },
  {
   "cell_type": "code",
   "execution_count": 26,
   "metadata": {},
   "outputs": [],
   "source": [
    "movies = pd.DataFrame(netflix_data.groupby('type')['release_year'].value_counts()['Movie'].sort_values(ascending = False)[:20])\n",
    "tv_shows = pd.DataFrame(netflix_data.groupby('type')['release_year'].value_counts()['TV Show'].sort_values(ascending = False)[:20])"
   ]
  },
  {
   "cell_type": "code",
   "execution_count": 27,
   "metadata": {},
   "outputs": [
    {
     "data": {
      "text/plain": [
       "Text(0.5, 0, 'Year Number')"
      ]
     },
     "execution_count": 27,
     "metadata": {},
     "output_type": "execute_result"
    },
    {
     "data": {
      "image/png": "[encoded data removed]",
      "text/plain": [
       "<Figure size 432x288 with 1 Axes>"
      ]
     },
     "metadata": {
      "needs_background": "light"
     },
     "output_type": "display_data"
    }
   ],
   "source": [
    "movies.plot(kind = 'bar', width = 0.7, color = 'blue')\n",
    "plt.title('Movies per Year')\n",
    "plt.ylabel('Number Produced')\n",
    "plt.xlabel('Year Number')"
   ]
  },
  {
   "cell_type": "code",
   "execution_count": 28,
   "metadata": {},
   "outputs": [
    {
     "data": {
      "text/plain": [
       "Text(0.5, 0, 'Year Number')"
      ]
     },
     "execution_count": 28,
     "metadata": {},
     "output_type": "execute_result"
    },
    {
     "data": {
      "image/png": "[encoded data removed]",
      "text/plain": [
       "<Figure size 432x288 with 1 Axes>"
      ]
     },
     "metadata": {
      "needs_background": "light"
     },
     "output_type": "display_data"
    }
   ],
   "source": [
    "tv_shows.plot(kind = 'bar', width = 0.7, color = 'blue')\n",
    "plt.title('TV Shows per Year')\n",
    "plt.ylabel('Number Produced')\n",
    "plt.xlabel('Year Number')"
   ]
  },
  {
   "cell_type": "code",
   "execution_count": 29,
   "metadata": {},
   "outputs": [],
   "source": [
    "listed_in_list = []\n",
    "\n",
    "for items in netflix_data.listed_in:\n",
    "    split_item = items.split(',')\n",
    "    for new_item in split_item:\n",
    "        listed_in_list.append(new_item.strip())"
   ]
  },
  {
   "cell_type": "code",
   "execution_count": 30,
   "metadata": {},
   "outputs": [],
   "source": [
    "listed_in_dict = dict()\n",
    "for item in listed_in_list:\n",
    "    listed_in_dict[item] = listed_in_list.count(item)"
   ]
  },
  {
   "cell_type": "code",
   "execution_count": 31,
   "metadata": {},
   "outputs": [],
   "source": [
    "common_listed_in = Counter(listed_in_dict)\n",
    "listed_in_common = common_listed_in.most_common(50)\n",
    "\n",
    "common_listed_in_dict = dict()\n",
    "\n",
    "for i in listed_in_common:\n",
    "    common_listed_in_dict[i[0]] = i[1]"
   ]
  },
  {
   "cell_type": "code",
   "execution_count": 32,
   "metadata": {},
   "outputs": [
    {
     "data": {
      "text/plain": [
       "<BarContainer object of 42 artists>"
      ]
     },
     "execution_count": 32,
     "metadata": {},
     "output_type": "execute_result"
    },
    {
     "data": {
      "image/png": "[encoded data removed]",
      "text/plain": [
       "<Figure size 1440x1080 with 1 Axes>"
      ]
     },
     "metadata": {
      "needs_background": "light"
     },
     "output_type": "display_data"
    }
   ],
   "source": [
    "plt.figure(figsize = (20, 15))\n",
    "plt.xticks(rotation = '90')\n",
    "plt.bar(common_listed_in_dict.keys(), common_listed_in_dict.values())\n"
   ]
  },
  {
   "cell_type": "markdown",
   "metadata": {},
   "source": [
    "### The most popular tag on Netflix is International Movies"
   ]
  },
  {
   "cell_type": "markdown",
   "metadata": {},
   "source": [
    "## Analyze the duration of Movies and TV Shows"
   ]
  },
  {
   "cell_type": "code",
   "execution_count": 33,
   "metadata": {},
   "outputs": [
    {
     "data": {
      "text/html": [
       "<div>\n",
       "<style scoped>\n",
       "    .dataframe tbody tr th:only-of-type {\n",
       "        vertical-align: middle;\n",
       "    }\n",
       "\n",
       "    .dataframe tbody tr th {\n",
       "        vertical-align: top;\n",
       "    }\n",
       "\n",
       "    .dataframe thead th {\n",
       "        text-align: right;\n",
       "    }\n",
       "</style>\n",
       "<table border=\"1\" class=\"dataframe\">\n",
       "  <thead>\n",
       "    <tr style=\"text-align: right;\">\n",
       "      <th></th>\n",
       "      <th>show_id</th>\n",
       "      <th>type</th>\n",
       "      <th>title</th>\n",
       "      <th>director</th>\n",
       "      <th>cast</th>\n",
       "      <th>country</th>\n",
       "      <th>date_added</th>\n",
       "      <th>release_year</th>\n",
       "      <th>rating</th>\n",
       "      <th>duration</th>\n",
       "      <th>listed_in</th>\n",
       "      <th>description</th>\n",
       "    </tr>\n",
       "  </thead>\n",
       "  <tbody>\n",
       "    <tr>\n",
       "      <th>0</th>\n",
       "      <td>s2</td>\n",
       "      <td>Movie</td>\n",
       "      <td>7:19</td>\n",
       "      <td>Jorge Michel Grau</td>\n",
       "      <td>Demián Bichir, Héctor Bonilla, Oscar Serrano, ...</td>\n",
       "      <td>Mexico</td>\n",
       "      <td>December 23, 2016</td>\n",
       "      <td>2016</td>\n",
       "      <td>TV-MA</td>\n",
       "      <td>93 min</td>\n",
       "      <td>Dramas, International Movies</td>\n",
       "      <td>After a devastating earthquake hits Mexico Cit...</td>\n",
       "    </tr>\n",
       "    <tr>\n",
       "      <th>1</th>\n",
       "      <td>s3</td>\n",
       "      <td>Movie</td>\n",
       "      <td>23:59</td>\n",
       "      <td>Gilbert Chan</td>\n",
       "      <td>Tedd Chan, Stella Chung, Henley Hii, Lawrence ...</td>\n",
       "      <td>Singapore</td>\n",
       "      <td>December 20, 2018</td>\n",
       "      <td>2011</td>\n",
       "      <td>R</td>\n",
       "      <td>78 min</td>\n",
       "      <td>Horror Movies, International Movies</td>\n",
       "      <td>When an army recruit is found dead, his fellow...</td>\n",
       "    </tr>\n",
       "    <tr>\n",
       "      <th>2</th>\n",
       "      <td>s4</td>\n",
       "      <td>Movie</td>\n",
       "      <td>9</td>\n",
       "      <td>Shane Acker</td>\n",
       "      <td>Elijah Wood, John C. Reilly, Jennifer Connelly...</td>\n",
       "      <td>United States</td>\n",
       "      <td>November 16, 2017</td>\n",
       "      <td>2009</td>\n",
       "      <td>PG-13</td>\n",
       "      <td>80 min</td>\n",
       "      <td>Action &amp; Adventure, Independent Movies, Sci-Fi...</td>\n",
       "      <td>In a postapocalyptic world, rag-doll robots hi...</td>\n",
       "    </tr>\n",
       "    <tr>\n",
       "      <th>3</th>\n",
       "      <td>s5</td>\n",
       "      <td>Movie</td>\n",
       "      <td>21</td>\n",
       "      <td>Robert Luketic</td>\n",
       "      <td>Jim Sturgess, Kevin Spacey, Kate Bosworth, Aar...</td>\n",
       "      <td>United States</td>\n",
       "      <td>January 1, 2020</td>\n",
       "      <td>2008</td>\n",
       "      <td>PG-13</td>\n",
       "      <td>123 min</td>\n",
       "      <td>Dramas</td>\n",
       "      <td>A brilliant group of students become card-coun...</td>\n",
       "    </tr>\n",
       "    <tr>\n",
       "      <th>4</th>\n",
       "      <td>s7</td>\n",
       "      <td>Movie</td>\n",
       "      <td>122</td>\n",
       "      <td>Yasir Al Yasiri</td>\n",
       "      <td>Amina Khalil, Ahmed Dawood, Tarek Lotfy, Ahmed...</td>\n",
       "      <td>Egypt</td>\n",
       "      <td>June 1, 2020</td>\n",
       "      <td>2019</td>\n",
       "      <td>TV-MA</td>\n",
       "      <td>95 min</td>\n",
       "      <td>Horror Movies, International Movies</td>\n",
       "      <td>After an awful accident, a couple admitted to ...</td>\n",
       "    </tr>\n",
       "    <tr>\n",
       "      <th>...</th>\n",
       "      <td>...</td>\n",
       "      <td>...</td>\n",
       "      <td>...</td>\n",
       "      <td>...</td>\n",
       "      <td>...</td>\n",
       "      <td>...</td>\n",
       "      <td>...</td>\n",
       "      <td>...</td>\n",
       "      <td>...</td>\n",
       "      <td>...</td>\n",
       "      <td>...</td>\n",
       "      <td>...</td>\n",
       "    </tr>\n",
       "    <tr>\n",
       "      <th>5372</th>\n",
       "      <td>s7782</td>\n",
       "      <td>Movie</td>\n",
       "      <td>Zoom</td>\n",
       "      <td>Peter Hewitt</td>\n",
       "      <td>Tim Allen, Courteney Cox, Chevy Chase, Kate Ma...</td>\n",
       "      <td>United States</td>\n",
       "      <td>January 11, 2020</td>\n",
       "      <td>2006</td>\n",
       "      <td>PG</td>\n",
       "      <td>88 min</td>\n",
       "      <td>Children &amp; Family Movies, Comedies</td>\n",
       "      <td>Dragged from civilian life, a former superhero...</td>\n",
       "    </tr>\n",
       "    <tr>\n",
       "      <th>5373</th>\n",
       "      <td>s7783</td>\n",
       "      <td>Movie</td>\n",
       "      <td>Zozo</td>\n",
       "      <td>Josef Fares</td>\n",
       "      <td>Imad Creidi, Antoinette Turk, Elias Gergi, Car...</td>\n",
       "      <td>Sweden, Czech Republic, United Kingdom, Denmar...</td>\n",
       "      <td>October 19, 2020</td>\n",
       "      <td>2005</td>\n",
       "      <td>TV-MA</td>\n",
       "      <td>99 min</td>\n",
       "      <td>Dramas, International Movies</td>\n",
       "      <td>When Lebanon's Civil War deprives Zozo of his ...</td>\n",
       "    </tr>\n",
       "    <tr>\n",
       "      <th>5374</th>\n",
       "      <td>s7784</td>\n",
       "      <td>Movie</td>\n",
       "      <td>Zubaan</td>\n",
       "      <td>Mozez Singh</td>\n",
       "      <td>Vicky Kaushal, Sarah-Jane Dias, Raaghav Chanan...</td>\n",
       "      <td>India</td>\n",
       "      <td>March 2, 2019</td>\n",
       "      <td>2015</td>\n",
       "      <td>TV-14</td>\n",
       "      <td>111 min</td>\n",
       "      <td>Dramas, International Movies, Music &amp; Musicals</td>\n",
       "      <td>A scrappy but poor boy worms his way into a ty...</td>\n",
       "    </tr>\n",
       "    <tr>\n",
       "      <th>5375</th>\n",
       "      <td>s7785</td>\n",
       "      <td>Movie</td>\n",
       "      <td>Zulu Man in Japan</td>\n",
       "      <td>missing</td>\n",
       "      <td>Nasty C</td>\n",
       "      <td>missing</td>\n",
       "      <td>September 25, 2020</td>\n",
       "      <td>2019</td>\n",
       "      <td>TV-MA</td>\n",
       "      <td>44 min</td>\n",
       "      <td>Documentaries, International Movies, Music &amp; M...</td>\n",
       "      <td>In this documentary, South African rapper Nast...</td>\n",
       "    </tr>\n",
       "    <tr>\n",
       "      <th>5376</th>\n",
       "      <td>s7787</td>\n",
       "      <td>Movie</td>\n",
       "      <td>ZZ TOP: THAT LITTLE OL' BAND FROM TEXAS</td>\n",
       "      <td>Sam Dunn</td>\n",
       "      <td>missing</td>\n",
       "      <td>United Kingdom, Canada, United States</td>\n",
       "      <td>March 1, 2020</td>\n",
       "      <td>2019</td>\n",
       "      <td>TV-MA</td>\n",
       "      <td>90 min</td>\n",
       "      <td>Documentaries, Music &amp; Musicals</td>\n",
       "      <td>This documentary delves into the mystique behi...</td>\n",
       "    </tr>\n",
       "  </tbody>\n",
       "</table>\n",
       "<p>5377 rows × 12 columns</p>\n",
       "</div>"
      ],
      "text/plain": [
       "     show_id   type                                    title  \\\n",
       "0         s2  Movie                                     7:19   \n",
       "1         s3  Movie                                    23:59   \n",
       "2         s4  Movie                                        9   \n",
       "3         s5  Movie                                       21   \n",
       "4         s7  Movie                                      122   \n",
       "...      ...    ...                                      ...   \n",
       "5372   s7782  Movie                                     Zoom   \n",
       "5373   s7783  Movie                                     Zozo   \n",
       "5374   s7784  Movie                                   Zubaan   \n",
       "5375   s7785  Movie                        Zulu Man in Japan   \n",
       "5376   s7787  Movie  ZZ TOP: THAT LITTLE OL' BAND FROM TEXAS   \n",
       "\n",
       "               director                                               cast  \\\n",
       "0     Jorge Michel Grau  Demián Bichir, Héctor Bonilla, Oscar Serrano, ...   \n",
       "1          Gilbert Chan  Tedd Chan, Stella Chung, Henley Hii, Lawrence ...   \n",
       "2           Shane Acker  Elijah Wood, John C. Reilly, Jennifer Connelly...   \n",
       "3        Robert Luketic  Jim Sturgess, Kevin Spacey, Kate Bosworth, Aar...   \n",
       "4       Yasir Al Yasiri  Amina Khalil, Ahmed Dawood, Tarek Lotfy, Ahmed...   \n",
       "...                 ...                                                ...   \n",
       "5372       Peter Hewitt  Tim Allen, Courteney Cox, Chevy Chase, Kate Ma...   \n",
       "5373        Josef Fares  Imad Creidi, Antoinette Turk, Elias Gergi, Car...   \n",
       "5374        Mozez Singh  Vicky Kaushal, Sarah-Jane Dias, Raaghav Chanan...   \n",
       "5375            missing                                            Nasty C   \n",
       "5376           Sam Dunn                                            missing   \n",
       "\n",
       "                                                country          date_added  \\\n",
       "0                                                Mexico   December 23, 2016   \n",
       "1                                             Singapore   December 20, 2018   \n",
       "2                                         United States   November 16, 2017   \n",
       "3                                         United States     January 1, 2020   \n",
       "4                                                 Egypt        June 1, 2020   \n",
       "...                                                 ...                 ...   \n",
       "5372                                      United States    January 11, 2020   \n",
       "5373  Sweden, Czech Republic, United Kingdom, Denmar...    October 19, 2020   \n",
       "5374                                              India       March 2, 2019   \n",
       "5375                                            missing  September 25, 2020   \n",
       "5376              United Kingdom, Canada, United States       March 1, 2020   \n",
       "\n",
       "      release_year rating duration  \\\n",
       "0             2016  TV-MA   93 min   \n",
       "1             2011      R   78 min   \n",
       "2             2009  PG-13   80 min   \n",
       "3             2008  PG-13  123 min   \n",
       "4             2019  TV-MA   95 min   \n",
       "...            ...    ...      ...   \n",
       "5372          2006     PG   88 min   \n",
       "5373          2005  TV-MA   99 min   \n",
       "5374          2015  TV-14  111 min   \n",
       "5375          2019  TV-MA   44 min   \n",
       "5376          2019  TV-MA   90 min   \n",
       "\n",
       "                                              listed_in  \\\n",
       "0                          Dramas, International Movies   \n",
       "1                   Horror Movies, International Movies   \n",
       "2     Action & Adventure, Independent Movies, Sci-Fi...   \n",
       "3                                                Dramas   \n",
       "4                   Horror Movies, International Movies   \n",
       "...                                                 ...   \n",
       "5372                 Children & Family Movies, Comedies   \n",
       "5373                       Dramas, International Movies   \n",
       "5374     Dramas, International Movies, Music & Musicals   \n",
       "5375  Documentaries, International Movies, Music & M...   \n",
       "5376                    Documentaries, Music & Musicals   \n",
       "\n",
       "                                            description  \n",
       "0     After a devastating earthquake hits Mexico Cit...  \n",
       "1     When an army recruit is found dead, his fellow...  \n",
       "2     In a postapocalyptic world, rag-doll robots hi...  \n",
       "3     A brilliant group of students become card-coun...  \n",
       "4     After an awful accident, a couple admitted to ...  \n",
       "...                                                 ...  \n",
       "5372  Dragged from civilian life, a former superhero...  \n",
       "5373  When Lebanon's Civil War deprives Zozo of his ...  \n",
       "5374  A scrappy but poor boy worms his way into a ty...  \n",
       "5375  In this documentary, South African rapper Nast...  \n",
       "5376  This documentary delves into the mystique behi...  \n",
       "\n",
       "[5377 rows x 12 columns]"
      ]
     },
     "execution_count": 33,
     "metadata": {},
     "output_type": "execute_result"
    }
   ],
   "source": [
    "all_movies_sql = \"SELECT * FROM netflix_data WHERE type = 'Movie'\"\n",
    "all_movies = ps.sqldf(all_movies_sql)\n",
    "all_movies"
   ]
  },
  {
   "cell_type": "code",
   "execution_count": 34,
   "metadata": {},
   "outputs": [
    {
     "data": {
      "text/plain": [
       "([0, 1, 2, 3, 4, 5, 6, 7, 8, 9, 10, 11, 12, 13, 14, 15, 16, 17, 18, 19],\n",
       " <a list of 20 Text major ticklabel objects>)"
      ]
     },
     "execution_count": 34,
     "metadata": {},
     "output_type": "execute_result"
    },
    {
     "data": {
      "image/png": "[encoded data removed]",
      "text/plain": [
       "<Figure size 432x288 with 1 Axes>"
      ]
     },
     "metadata": {
      "needs_background": "light"
     },
     "output_type": "display_data"
    }
   ],
   "source": [
    "plt.plot(all_movies.duration.value_counts().index.to_list()[:20], all_movies.duration.value_counts()[:20])\n",
    "plt.xticks(rotation = '90')"
   ]
  },
  {
   "cell_type": "markdown",
   "metadata": {},
   "source": [
    "### Most of the Movies have duration of 90 minutes"
   ]
  },
  {
   "cell_type": "code",
   "execution_count": 35,
   "metadata": {},
   "outputs": [
    {
     "data": {
      "text/html": [
       "<div>\n",
       "<style scoped>\n",
       "    .dataframe tbody tr th:only-of-type {\n",
       "        vertical-align: middle;\n",
       "    }\n",
       "\n",
       "    .dataframe tbody tr th {\n",
       "        vertical-align: top;\n",
       "    }\n",
       "\n",
       "    .dataframe thead th {\n",
       "        text-align: right;\n",
       "    }\n",
       "</style>\n",
       "<table border=\"1\" class=\"dataframe\">\n",
       "  <thead>\n",
       "    <tr style=\"text-align: right;\">\n",
       "      <th></th>\n",
       "      <th>show_id</th>\n",
       "      <th>type</th>\n",
       "      <th>title</th>\n",
       "      <th>director</th>\n",
       "      <th>cast</th>\n",
       "      <th>country</th>\n",
       "      <th>date_added</th>\n",
       "      <th>release_year</th>\n",
       "      <th>rating</th>\n",
       "      <th>duration</th>\n",
       "      <th>listed_in</th>\n",
       "      <th>description</th>\n",
       "    </tr>\n",
       "  </thead>\n",
       "  <tbody>\n",
       "    <tr>\n",
       "      <th>0</th>\n",
       "      <td>s1</td>\n",
       "      <td>TV Show</td>\n",
       "      <td>3%</td>\n",
       "      <td>missing</td>\n",
       "      <td>João Miguel, Bianca Comparato, Michel Gomes, R...</td>\n",
       "      <td>Brazil</td>\n",
       "      <td>August 14, 2020</td>\n",
       "      <td>2020</td>\n",
       "      <td>TV-MA</td>\n",
       "      <td>4 Seasons</td>\n",
       "      <td>International TV Shows, TV Dramas, TV Sci-Fi &amp;...</td>\n",
       "      <td>In a future where the elite inhabit an island ...</td>\n",
       "    </tr>\n",
       "    <tr>\n",
       "      <th>1</th>\n",
       "      <td>s6</td>\n",
       "      <td>TV Show</td>\n",
       "      <td>46</td>\n",
       "      <td>Serdar Akar</td>\n",
       "      <td>Erdal Beşikçioğlu, Yasemin Allen, Melis Birkan...</td>\n",
       "      <td>Turkey</td>\n",
       "      <td>July 1, 2017</td>\n",
       "      <td>2016</td>\n",
       "      <td>TV-MA</td>\n",
       "      <td>1 Season</td>\n",
       "      <td>International TV Shows, TV Dramas, TV Mysteries</td>\n",
       "      <td>A genetics professor experiments with a treatm...</td>\n",
       "    </tr>\n",
       "    <tr>\n",
       "      <th>2</th>\n",
       "      <td>s12</td>\n",
       "      <td>TV Show</td>\n",
       "      <td>1983</td>\n",
       "      <td>missing</td>\n",
       "      <td>Robert Więckiewicz, Maciej Musiał, Michalina O...</td>\n",
       "      <td>Poland, United States</td>\n",
       "      <td>November 30, 2018</td>\n",
       "      <td>2018</td>\n",
       "      <td>TV-MA</td>\n",
       "      <td>1 Season</td>\n",
       "      <td>Crime TV Shows, International TV Shows, TV Dramas</td>\n",
       "      <td>In this dark alt-history thriller, a naïve law...</td>\n",
       "    </tr>\n",
       "    <tr>\n",
       "      <th>3</th>\n",
       "      <td>s13</td>\n",
       "      <td>TV Show</td>\n",
       "      <td>1994</td>\n",
       "      <td>Diego Enrique Osorno</td>\n",
       "      <td>missing</td>\n",
       "      <td>Mexico</td>\n",
       "      <td>May 17, 2019</td>\n",
       "      <td>2019</td>\n",
       "      <td>TV-MA</td>\n",
       "      <td>1 Season</td>\n",
       "      <td>Crime TV Shows, Docuseries, International TV S...</td>\n",
       "      <td>Archival video and new interviews examine Mexi...</td>\n",
       "    </tr>\n",
       "    <tr>\n",
       "      <th>4</th>\n",
       "      <td>s17</td>\n",
       "      <td>TV Show</td>\n",
       "      <td>Feb-09</td>\n",
       "      <td>missing</td>\n",
       "      <td>Shahd El Yaseen, Shaila Sabt, Hala, Hanadi Al-...</td>\n",
       "      <td>missing</td>\n",
       "      <td>March 20, 2019</td>\n",
       "      <td>2018</td>\n",
       "      <td>TV-14</td>\n",
       "      <td>1 Season</td>\n",
       "      <td>International TV Shows, TV Dramas</td>\n",
       "      <td>As a psychology professor faces Alzheimer's, h...</td>\n",
       "    </tr>\n",
       "    <tr>\n",
       "      <th>...</th>\n",
       "      <td>...</td>\n",
       "      <td>...</td>\n",
       "      <td>...</td>\n",
       "      <td>...</td>\n",
       "      <td>...</td>\n",
       "      <td>...</td>\n",
       "      <td>...</td>\n",
       "      <td>...</td>\n",
       "      <td>...</td>\n",
       "      <td>...</td>\n",
       "      <td>...</td>\n",
       "      <td>...</td>\n",
       "    </tr>\n",
       "    <tr>\n",
       "      <th>2395</th>\n",
       "      <td>s7768</td>\n",
       "      <td>TV Show</td>\n",
       "      <td>Zindagi Gulzar Hai</td>\n",
       "      <td>missing</td>\n",
       "      <td>Sanam Saeed, Fawad Khan, Ayesha Omer, Mehreen ...</td>\n",
       "      <td>Pakistan</td>\n",
       "      <td>December 15, 2016</td>\n",
       "      <td>2012</td>\n",
       "      <td>TV-PG</td>\n",
       "      <td>1 Season</td>\n",
       "      <td>International TV Shows, Romantic TV Shows, TV ...</td>\n",
       "      <td>Strong-willed, middle-class Kashaf and carefre...</td>\n",
       "    </tr>\n",
       "    <tr>\n",
       "      <th>2396</th>\n",
       "      <td>s7776</td>\n",
       "      <td>TV Show</td>\n",
       "      <td>Zoids Wild</td>\n",
       "      <td>missing</td>\n",
       "      <td>Kensho Ono, Takahiro Sakurai, Mikako Komatsu, ...</td>\n",
       "      <td>Japan</td>\n",
       "      <td>August 14, 2020</td>\n",
       "      <td>2018</td>\n",
       "      <td>TV-Y7</td>\n",
       "      <td>1 Season</td>\n",
       "      <td>Anime Series, Kids' TV</td>\n",
       "      <td>A quest for freedom and legendary treasure beg...</td>\n",
       "    </tr>\n",
       "    <tr>\n",
       "      <th>2397</th>\n",
       "      <td>s7778</td>\n",
       "      <td>TV Show</td>\n",
       "      <td>Zombie Dumb</td>\n",
       "      <td>missing</td>\n",
       "      <td>missing</td>\n",
       "      <td>missing</td>\n",
       "      <td>July 1, 2019</td>\n",
       "      <td>2018</td>\n",
       "      <td>TV-Y7</td>\n",
       "      <td>2 Seasons</td>\n",
       "      <td>Kids' TV, Korean TV Shows, TV Comedies</td>\n",
       "      <td>While living alone in a spooky town, a young g...</td>\n",
       "    </tr>\n",
       "    <tr>\n",
       "      <th>2398</th>\n",
       "      <td>s7780</td>\n",
       "      <td>TV Show</td>\n",
       "      <td>Zona Rosa</td>\n",
       "      <td>missing</td>\n",
       "      <td>Manu NNa, Ana Julia Yeyé, Ray Contreras, Pablo...</td>\n",
       "      <td>Mexico</td>\n",
       "      <td>November 26, 2019</td>\n",
       "      <td>2019</td>\n",
       "      <td>TV-MA</td>\n",
       "      <td>1 Season</td>\n",
       "      <td>International TV Shows, Spanish-Language TV Sh...</td>\n",
       "      <td>An assortment of talent takes the stage for a ...</td>\n",
       "    </tr>\n",
       "    <tr>\n",
       "      <th>2399</th>\n",
       "      <td>s7786</td>\n",
       "      <td>TV Show</td>\n",
       "      <td>Zumbo's Just Desserts</td>\n",
       "      <td>missing</td>\n",
       "      <td>Adriano Zumbo, Rachel Khoo</td>\n",
       "      <td>Australia</td>\n",
       "      <td>October 31, 2020</td>\n",
       "      <td>2019</td>\n",
       "      <td>TV-PG</td>\n",
       "      <td>1 Season</td>\n",
       "      <td>International TV Shows, Reality TV</td>\n",
       "      <td>Dessert wizard Adriano Zumbo looks for the nex...</td>\n",
       "    </tr>\n",
       "  </tbody>\n",
       "</table>\n",
       "<p>2400 rows × 12 columns</p>\n",
       "</div>"
      ],
      "text/plain": [
       "     show_id     type                  title              director  \\\n",
       "0         s1  TV Show                     3%               missing   \n",
       "1         s6  TV Show                     46           Serdar Akar   \n",
       "2        s12  TV Show                   1983               missing   \n",
       "3        s13  TV Show                   1994  Diego Enrique Osorno   \n",
       "4        s17  TV Show                 Feb-09               missing   \n",
       "...      ...      ...                    ...                   ...   \n",
       "2395   s7768  TV Show     Zindagi Gulzar Hai               missing   \n",
       "2396   s7776  TV Show             Zoids Wild               missing   \n",
       "2397   s7778  TV Show            Zombie Dumb               missing   \n",
       "2398   s7780  TV Show              Zona Rosa               missing   \n",
       "2399   s7786  TV Show  Zumbo's Just Desserts               missing   \n",
       "\n",
       "                                                   cast  \\\n",
       "0     João Miguel, Bianca Comparato, Michel Gomes, R...   \n",
       "1     Erdal Beşikçioğlu, Yasemin Allen, Melis Birkan...   \n",
       "2     Robert Więckiewicz, Maciej Musiał, Michalina O...   \n",
       "3                                               missing   \n",
       "4     Shahd El Yaseen, Shaila Sabt, Hala, Hanadi Al-...   \n",
       "...                                                 ...   \n",
       "2395  Sanam Saeed, Fawad Khan, Ayesha Omer, Mehreen ...   \n",
       "2396  Kensho Ono, Takahiro Sakurai, Mikako Komatsu, ...   \n",
       "2397                                            missing   \n",
       "2398  Manu NNa, Ana Julia Yeyé, Ray Contreras, Pablo...   \n",
       "2399                         Adriano Zumbo, Rachel Khoo   \n",
       "\n",
       "                    country         date_added  release_year rating  \\\n",
       "0                    Brazil    August 14, 2020          2020  TV-MA   \n",
       "1                    Turkey       July 1, 2017          2016  TV-MA   \n",
       "2     Poland, United States  November 30, 2018          2018  TV-MA   \n",
       "3                    Mexico       May 17, 2019          2019  TV-MA   \n",
       "4                   missing     March 20, 2019          2018  TV-14   \n",
       "...                     ...                ...           ...    ...   \n",
       "2395               Pakistan  December 15, 2016          2012  TV-PG   \n",
       "2396                  Japan    August 14, 2020          2018  TV-Y7   \n",
       "2397                missing       July 1, 2019          2018  TV-Y7   \n",
       "2398                 Mexico  November 26, 2019          2019  TV-MA   \n",
       "2399              Australia   October 31, 2020          2019  TV-PG   \n",
       "\n",
       "       duration                                          listed_in  \\\n",
       "0     4 Seasons  International TV Shows, TV Dramas, TV Sci-Fi &...   \n",
       "1      1 Season    International TV Shows, TV Dramas, TV Mysteries   \n",
       "2      1 Season  Crime TV Shows, International TV Shows, TV Dramas   \n",
       "3      1 Season  Crime TV Shows, Docuseries, International TV S...   \n",
       "4      1 Season                  International TV Shows, TV Dramas   \n",
       "...         ...                                                ...   \n",
       "2395   1 Season  International TV Shows, Romantic TV Shows, TV ...   \n",
       "2396   1 Season                             Anime Series, Kids' TV   \n",
       "2397  2 Seasons             Kids' TV, Korean TV Shows, TV Comedies   \n",
       "2398   1 Season  International TV Shows, Spanish-Language TV Sh...   \n",
       "2399   1 Season                 International TV Shows, Reality TV   \n",
       "\n",
       "                                            description  \n",
       "0     In a future where the elite inhabit an island ...  \n",
       "1     A genetics professor experiments with a treatm...  \n",
       "2     In this dark alt-history thriller, a naïve law...  \n",
       "3     Archival video and new interviews examine Mexi...  \n",
       "4     As a psychology professor faces Alzheimer's, h...  \n",
       "...                                                 ...  \n",
       "2395  Strong-willed, middle-class Kashaf and carefre...  \n",
       "2396  A quest for freedom and legendary treasure beg...  \n",
       "2397  While living alone in a spooky town, a young g...  \n",
       "2398  An assortment of talent takes the stage for a ...  \n",
       "2399  Dessert wizard Adriano Zumbo looks for the nex...  \n",
       "\n",
       "[2400 rows x 12 columns]"
      ]
     },
     "execution_count": 35,
     "metadata": {},
     "output_type": "execute_result"
    }
   ],
   "source": [
    "all_tv_shows_sql = \"SELECT * FROM netflix_data WHERE type = 'TV Show'\" \n",
    "all_tv_shows = ps.sqldf(all_tv_shows_sql)\n",
    "all_tv_shows"
   ]
  },
  {
   "cell_type": "code",
   "execution_count": 36,
   "metadata": {},
   "outputs": [
    {
     "data": {
      "text/plain": [
       "([0, 1, 2, 3, 4, 5, 6, 7, 8, 9, 10, 11, 12, 13, 14],\n",
       " <a list of 15 Text major ticklabel objects>)"
      ]
     },
     "execution_count": 36,
     "metadata": {},
     "output_type": "execute_result"
    },
    {
     "data": {
      "image/png": "[encoded data removed]",
      "text/plain": [
       "<Figure size 432x288 with 1 Axes>"
      ]
     },
     "metadata": {
      "needs_background": "light"
     },
     "output_type": "display_data"
    }
   ],
   "source": [
    "plt.plot(all_tv_shows.duration.value_counts().index.to_list()[:20], all_tv_shows.duration.value_counts()[:20])\n",
    "plt.xticks(rotation = '90')"
   ]
  },
  {
   "cell_type": "markdown",
   "metadata": {},
   "source": [
    "### Most of TV Shows have only 1 season according to the given data"
   ]
  },
  {
   "cell_type": "markdown",
   "metadata": {},
   "source": [
    "## Explore the most common rating on Netflix"
   ]
  },
  {
   "cell_type": "code",
   "execution_count": 37,
   "metadata": {},
   "outputs": [
    {
     "data": {
      "text/html": [
       "<div>\n",
       "<style scoped>\n",
       "    .dataframe tbody tr th:only-of-type {\n",
       "        vertical-align: middle;\n",
       "    }\n",
       "\n",
       "    .dataframe tbody tr th {\n",
       "        vertical-align: top;\n",
       "    }\n",
       "\n",
       "    .dataframe thead th {\n",
       "        text-align: right;\n",
       "    }\n",
       "</style>\n",
       "<table border=\"1\" class=\"dataframe\">\n",
       "  <thead>\n",
       "    <tr style=\"text-align: right;\">\n",
       "      <th></th>\n",
       "      <th>rating</th>\n",
       "      <th>counter</th>\n",
       "    </tr>\n",
       "  </thead>\n",
       "  <tbody>\n",
       "    <tr>\n",
       "      <th>0</th>\n",
       "      <td>TV-MA</td>\n",
       "      <td>2861</td>\n",
       "    </tr>\n",
       "    <tr>\n",
       "      <th>1</th>\n",
       "      <td>TV-14</td>\n",
       "      <td>1928</td>\n",
       "    </tr>\n",
       "    <tr>\n",
       "      <th>2</th>\n",
       "      <td>TV-PG</td>\n",
       "      <td>804</td>\n",
       "    </tr>\n",
       "    <tr>\n",
       "      <th>3</th>\n",
       "      <td>R</td>\n",
       "      <td>665</td>\n",
       "    </tr>\n",
       "    <tr>\n",
       "      <th>4</th>\n",
       "      <td>PG-13</td>\n",
       "      <td>386</td>\n",
       "    </tr>\n",
       "    <tr>\n",
       "      <th>5</th>\n",
       "      <td>TV-Y</td>\n",
       "      <td>279</td>\n",
       "    </tr>\n",
       "    <tr>\n",
       "      <th>6</th>\n",
       "      <td>TV-Y7</td>\n",
       "      <td>270</td>\n",
       "    </tr>\n",
       "    <tr>\n",
       "      <th>7</th>\n",
       "      <td>PG</td>\n",
       "      <td>247</td>\n",
       "    </tr>\n",
       "    <tr>\n",
       "      <th>8</th>\n",
       "      <td>TV-G</td>\n",
       "      <td>194</td>\n",
       "    </tr>\n",
       "    <tr>\n",
       "      <th>9</th>\n",
       "      <td>NR</td>\n",
       "      <td>83</td>\n",
       "    </tr>\n",
       "    <tr>\n",
       "      <th>10</th>\n",
       "      <td>G</td>\n",
       "      <td>39</td>\n",
       "    </tr>\n",
       "    <tr>\n",
       "      <th>11</th>\n",
       "      <td>missing</td>\n",
       "      <td>7</td>\n",
       "    </tr>\n",
       "    <tr>\n",
       "      <th>12</th>\n",
       "      <td>TV-Y7-FV</td>\n",
       "      <td>6</td>\n",
       "    </tr>\n",
       "    <tr>\n",
       "      <th>13</th>\n",
       "      <td>UR</td>\n",
       "      <td>5</td>\n",
       "    </tr>\n",
       "    <tr>\n",
       "      <th>14</th>\n",
       "      <td>NC-17</td>\n",
       "      <td>3</td>\n",
       "    </tr>\n",
       "  </tbody>\n",
       "</table>\n",
       "</div>"
      ],
      "text/plain": [
       "      rating  counter\n",
       "0      TV-MA     2861\n",
       "1      TV-14     1928\n",
       "2      TV-PG      804\n",
       "3          R      665\n",
       "4      PG-13      386\n",
       "5       TV-Y      279\n",
       "6      TV-Y7      270\n",
       "7         PG      247\n",
       "8       TV-G      194\n",
       "9         NR       83\n",
       "10         G       39\n",
       "11   missing        7\n",
       "12  TV-Y7-FV        6\n",
       "13        UR        5\n",
       "14     NC-17        3"
      ]
     },
     "execution_count": 37,
     "metadata": {},
     "output_type": "execute_result"
    }
   ],
   "source": [
    "rating_sql = \"SELECT rating, counter FROM (SELECT rating, COUNT(*) as counter FROM netflix_data GROUP BY rating) as types ORDER BY counter DESC\"\n",
    "rating = ps.sqldf(rating_sql)\n",
    "rating"
   ]
  },
  {
   "cell_type": "code",
   "execution_count": 39,
   "metadata": {},
   "outputs": [
    {
     "data": {
      "text/plain": [
       "([0, 1, 2, 3, 4, 5, 6, 7, 8, 9, 10, 11, 12, 13, 14],\n",
       " <a list of 15 Text major ticklabel objects>)"
      ]
     },
     "execution_count": 39,
     "metadata": {},
     "output_type": "execute_result"
    },
    {
     "data": {
      "image/png": "[encoded data removed]",
      "text/plain": [
       "<Figure size 432x288 with 1 Axes>"
      ]
     },
     "metadata": {
      "needs_background": "light"
     },
     "output_type": "display_data"
    }
   ],
   "source": [
    "plt.plot(rating.rating, rating.counter)\n",
    "plt.xticks(rotation = '90')"
   ]
  },
  {
   "cell_type": "markdown",
   "metadata": {},
   "source": [
    "### Based on the graph above, TV-MA has the most common rating"
   ]
  },
  {
   "cell_type": "markdown",
   "metadata": {},
   "source": [
    "# Summary"
   ]
  },
  {
   "cell_type": "markdown",
   "metadata": {},
   "source": [
    "## Taking everything into consideration, based on the data processsing and operations some of the vital information was retrieved.\n",
    "### The following data obtained:\n",
    "<ul>\n",
    "    <li> Show Types </li>\n",
    "    <li> Popular Directors </li>\n",
    "    <li> Popular Cast Members </li>\n",
    "    <li> Popular Country </li>\n",
    "    <li> Number of Shows Produced by Year </li>\n",
    "    <li> Popular Tag </li>\n",
    "    <li> Common Show Frequencies </li>\n",
    "    <li> Common Rating </li>\n",
    "</ul>"
   ]
  }
 ],
 "metadata": {
  "kernelspec": {
   "display_name": "Python 3",
   "language": "python",
   "name": "python3"
  },
  "language_info": {
   "codemirror_mode": {
    "name": "ipython",
    "version": 3
   },
   "file_extension": ".py",
   "mimetype": "text/x-python",
   "name": "python",
   "nbconvert_exporter": "python",
   "pygments_lexer": "ipython3",
   "version": "3.8.3"
  }
 },
 "nbformat": 4,
 "nbformat_minor": 4
}
